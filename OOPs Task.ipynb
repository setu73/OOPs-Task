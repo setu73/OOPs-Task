{
 "cells": [
  {
   "cell_type": "markdown",
   "id": "96a1c17d",
   "metadata": {},
   "source": [
    "# ANS 1"
   ]
  },
  {
   "cell_type": "code",
   "execution_count": 1,
   "id": "01165e3f",
   "metadata": {},
   "outputs": [],
   "source": [
    "class Vehicle:\n",
    "    def __init__(self, name_of_vehicle, max_speed, average_of_vehicle):\n",
    "        self.name_of_vehicle = name_of_vehicle\n",
    "        self.max_speed = max_speed\n",
    "        self.average_of_vehicle = average_of_vehicle\n"
   ]
  },
  {
   "cell_type": "markdown",
   "id": "e9efdceb",
   "metadata": {},
   "source": [
    "# ANS 2"
   ]
  },
  {
   "cell_type": "code",
   "execution_count": 2,
   "id": "d6750c38",
   "metadata": {},
   "outputs": [],
   "source": [
    "class Car(Vehicle):\n",
    "    \n",
    "    \n",
    "    def seating_capacity(self,capacity):\n",
    "        print(self.name_of_vehicle)\n",
    "        print(capacity)"
   ]
  },
  {
   "cell_type": "code",
   "execution_count": 3,
   "id": "6a127702",
   "metadata": {},
   "outputs": [
    {
     "name": "stdout",
     "output_type": "stream",
     "text": [
      "Honda Civic\n",
      "5\n"
     ]
    }
   ],
   "source": [
    "obj1=Car(\"Honda Civic\",\"200 km/h\",\"12 km/h\")\n",
    "obj1.seating_capacity(5)"
   ]
  },
  {
   "cell_type": "markdown",
   "id": "b488c331",
   "metadata": {},
   "source": [
    "# ANS 3"
   ]
  },
  {
   "cell_type": "markdown",
   "id": "5d5ffbb1",
   "metadata": {},
   "source": [
    "Multiple inheritance is a feature in object-oriented programming where a class can inherit attributes and behaviors from more than one parent class. In other words, a child class can inherit from multiple parent classes, combining their functionality into a single derived class."
   ]
  },
  {
   "cell_type": "code",
   "execution_count": 4,
   "id": "7a7d360b",
   "metadata": {},
   "outputs": [
    {
     "name": "stdout",
     "output_type": "stream",
     "text": [
      "Sparrow is eating.\n",
      "Sparrow is sleeping.\n",
      "Chirp chirp!\n",
      "Flying high!\n",
      "Tiger is eating.\n",
      "Tiger is sleeping.\n",
      "Running fast!\n"
     ]
    }
   ],
   "source": [
    "class Animal:\n",
    "    def __init__(self, name):\n",
    "        self.name = name\n",
    "\n",
    "    def eat(self):\n",
    "        print(f\"{self.name} is eating.\")\n",
    "\n",
    "    def sleep(self):\n",
    "        print(f\"{self.name} is sleeping.\")\n",
    "\n",
    "\n",
    "class Flyable:\n",
    "    def fly(self):\n",
    "        print(\"Flying high!\")\n",
    "\n",
    "\n",
    "class Bird(Animal, Flyable):\n",
    "    def __init__(self, name):\n",
    "        super().__init__(name)\n",
    "\n",
    "    def chirp(self):\n",
    "        print(\"Chirp chirp!\")\n",
    "\n",
    "\n",
    "class Mammal(Animal):\n",
    "    def __init__(self, name):\n",
    "        super().__init__(name)\n",
    "\n",
    "    def run(self):\n",
    "        print(\"Running fast!\")\n",
    "\n",
    "\n",
    "bird = Bird(\"Sparrow\")\n",
    "bird.eat()    \n",
    "bird.sleep()  \n",
    "bird.chirp()  \n",
    "bird.fly()    \n",
    "\n",
    "mammal = Mammal(\"Tiger\")\n",
    "mammal.eat() \n",
    "mammal.sleep()  \n",
    "mammal.run()\n"
   ]
  },
  {
   "cell_type": "markdown",
   "id": "422a0397",
   "metadata": {},
   "source": [
    "# ANS 4"
   ]
  },
  {
   "cell_type": "markdown",
   "id": "bb8e5d3b",
   "metadata": {},
   "source": [
    "In Python, getters and setters are methods used to access and modify the attributes of a class in a controlled manner. They provide an interface to retrieve and update the values of private attributes, allowing encapsulation and data abstraction."
   ]
  },
  {
   "cell_type": "code",
   "execution_count": 5,
   "id": "b4802cde",
   "metadata": {},
   "outputs": [],
   "source": [
    "class Person:\n",
    "    def __init__(self, name, age):\n",
    "        self._name = name  # private attribute\n",
    "        self._age = age    # private attribute\n",
    "\n",
    "    def get_name(self):\n",
    "        return self._name\n",
    "\n",
    "    def set_name(self, name):\n",
    "        self._name = name\n",
    "\n",
    "    def get_age(self):\n",
    "        return self._age\n",
    "\n",
    "    def set_age(self, age):\n",
    "        if age > 0:\n",
    "            self._age = age\n",
    "        else:\n",
    "            print(\"Age must be a positive number.\")\n"
   ]
  },
  {
   "cell_type": "code",
   "execution_count": 6,
   "id": "485efa62",
   "metadata": {},
   "outputs": [
    {
     "name": "stdout",
     "output_type": "stream",
     "text": [
      "Setu\n",
      "21\n",
      "Raj\n",
      "30\n"
     ]
    }
   ],
   "source": [
    "person = Person(\"Setu\", 21)\n",
    "print(person.get_name())  \n",
    "print(person.get_age())  \n",
    "\n",
    "person.set_name(\"Raj\")\n",
    "person.set_age(30)\n",
    "print(person.get_name())\n",
    "print(person.get_age())"
   ]
  },
  {
   "cell_type": "markdown",
   "id": "7d36840f",
   "metadata": {},
   "source": [
    "# ANS 5"
   ]
  },
  {
   "cell_type": "markdown",
   "id": "cd232416",
   "metadata": {},
   "source": [
    "Method overriding is a feature in object-oriented programming where a subclass provides a different implementation of a method that is already defined in its superclass. This allows the subclass to modify the behavior of the inherited method according to its specific needs."
   ]
  },
  {
   "cell_type": "code",
   "execution_count": 7,
   "id": "dbc11edf",
   "metadata": {},
   "outputs": [],
   "source": [
    "class Shape:\n",
    "    def calculate_area(self):\n",
    "        print(\"area of a generic shape.\")\n",
    "\n",
    "\n",
    "class Rectangle(Shape):\n",
    "    def __init__(self, length, width):\n",
    "        self.length = length\n",
    "        self.width = width\n",
    "\n",
    "    def calculate_area(self):\n",
    "        area = self.length * self.width\n",
    "        print(f\"area of a rectangle: {area}\")\n",
    "\n",
    "\n",
    "class Circle(Shape):\n",
    "    def __init__(self, radius):\n",
    "        self.radius = radius\n",
    "\n",
    "    def calculate_area(self):\n",
    "        area = 3.14 * self.radius * self.radius\n",
    "        print(f\"area of a circle: {area}\")\n"
   ]
  },
  {
   "cell_type": "code",
   "execution_count": 8,
   "id": "c1c7dc1b",
   "metadata": {},
   "outputs": [
    {
     "name": "stdout",
     "output_type": "stream",
     "text": [
      "area of a generic shape.\n",
      "area of a rectangle: 15\n",
      "area of a circle: 50.24\n"
     ]
    }
   ],
   "source": [
    "shape = Shape()\n",
    "shape.calculate_area()\n",
    "\n",
    "rectangle = Rectangle(5, 3)\n",
    "rectangle.calculate_area()\n",
    "\n",
    "circle = Circle(4)\n",
    "circle.calculate_area() "
   ]
  },
  {
   "cell_type": "code",
   "execution_count": null,
   "id": "cf9a7c9a",
   "metadata": {},
   "outputs": [],
   "source": []
  }
 ],
 "metadata": {
  "kernelspec": {
   "display_name": "Python 3 (ipykernel)",
   "language": "python",
   "name": "python3"
  },
  "language_info": {
   "codemirror_mode": {
    "name": "ipython",
    "version": 3
   },
   "file_extension": ".py",
   "mimetype": "text/x-python",
   "name": "python",
   "nbconvert_exporter": "python",
   "pygments_lexer": "ipython3",
   "version": "3.11.2"
  }
 },
 "nbformat": 4,
 "nbformat_minor": 5
}
